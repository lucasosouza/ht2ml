{
 "cells": [
  {
   "cell_type": "code",
   "execution_count": 1,
   "metadata": {},
   "outputs": [],
   "source": [
    "%load_ext autoreload\n",
    "%autoreload 2\n",
    "\n",
    "import matplotlib.pyplot as plt\n",
    "from matplotlib import rcParams\n",
    "%matplotlib inline\n",
    "%config InlineBackend.figure_format = 'retina'\n",
    "rcParams['figure.figsize'] = (12,6)\n",
    "\n",
    "import numpy as np\n",
    "import pandas as pd\n",
    "import seaborn as sns\n",
    "\n",
    "import os\n",
    "from data_loader import *"
   ]
  },
  {
   "cell_type": "markdown",
   "metadata": {},
   "source": [
    "# Understanding RMNIST dataset"
   ]
  },
  {
   "cell_type": "markdown",
   "metadata": {},
   "source": [
    "Following Michael Nielsen implementation available at: http://cognitivemedium.com/rmnist"
   ]
  },
  {
   "cell_type": "raw",
   "metadata": {},
   "source": [
    "REsults:\n",
    "Data set\tSVM RBF\tSVM linear\tk-NN\tdecision tree\trandom forest\tneural network\n",
    "RMNIST/1\t41.85\t41.85\t41.85\t16.13\t41.56\t42.00\n",
    "RMNIST/5\t69.73\t69.43\t65.08\t34.09\t65.70\t69.47\n",
    "RMNIST/10\t75.46\t75.09\t70.14\t41.09\t72.87\t75.33\n",
    "MNIST\t97.34\t94.81\t97.12\t87.51\t88.56\t97.01\n",
    "\n",
    "Conv w/dropout:\n",
    "RMNIST/1: 56.91%\n",
    "RMNIST/5: 76.65%\n",
    "RMNIST/10: 86.53%\n",
    "MNIST: 99.11%\n",
    "\n",
    "+ Data Augmentation:\n",
    "RMNIST/1: 55.25%\n",
    "RMNIST/5: 84.38%\n",
    "RMNIST/10: 92.07%\n",
    "MNIST: 99.34%\n",
    "\n",
    "ResNet Transfer Learning:\n",
    "RMNIST/1: 51.01%\n",
    "RMNIST/5: 72.81%\n",
    "RMNIST/10: 82.95%\n",
    "\n",
    "+ Data Augmentation:\n",
    "RMNIST/1: 52.84%\n",
    "RMNIST/5: 75.27%\n",
    "RMNIST/10: 84.66%\n"
   ]
  },
  {
   "cell_type": "code",
   "execution_count": 2,
   "metadata": {},
   "outputs": [],
   "source": [
    "train, val, test = load_data(n=10)"
   ]
  },
  {
   "cell_type": "code",
   "execution_count": 3,
   "metadata": {},
   "outputs": [
    {
     "data": {
      "text/plain": [
       "(100, 10000, 10000)"
      ]
     },
     "execution_count": 3,
     "metadata": {},
     "output_type": "execute_result"
    }
   ],
   "source": [
    "# data set sizes\n",
    "len(train[1]), len(val[1]), len(test[1])"
   ]
  },
  {
   "cell_type": "code",
   "execution_count": 4,
   "metadata": {},
   "outputs": [
    {
     "data": {
      "text/plain": [
       "array([0., 0., 0., 0., 0., 0., 0., 0., 0., 0.], dtype=float32)"
      ]
     },
     "execution_count": 4,
     "metadata": {},
     "output_type": "execute_result"
    }
   ],
   "source": [
    "train[0][0][:10]"
   ]
  },
  {
   "cell_type": "code",
   "execution_count": 5,
   "metadata": {},
   "outputs": [
    {
     "data": {
      "text/plain": [
       "[5, 3, 9, 1, 3, 6, 9, 2, 6, 8]"
      ]
     },
     "execution_count": 5,
     "metadata": {},
     "output_type": "execute_result"
    }
   ],
   "source": [
    "train[1][:10]"
   ]
  },
  {
   "cell_type": "markdown",
   "metadata": {},
   "source": [
    "* Train is tuple with two arrays, images and labels\n",
    "* Validation and test are kept at the same size"
   ]
  },
  {
   "cell_type": "markdown",
   "metadata": {},
   "source": [
    "# Testing our approach"
   ]
  },
  {
   "cell_type": "code",
   "execution_count": 6,
   "metadata": {},
   "outputs": [],
   "source": [
    "from pooler import *"
   ]
  },
  {
   "cell_type": "code",
   "execution_count": null,
   "metadata": {},
   "outputs": [],
   "source": [
    "clf = Classifier()\n",
    "clf.learn(train)"
   ]
  },
  {
   "cell_type": "code",
   "execution_count": 8,
   "metadata": {},
   "outputs": [
    {
     "name": "stdout",
     "output_type": "stream",
     "text": [
      "CPU times: user 3min, sys: 5.36 s, total: 3min 6s\n",
      "Wall time: 46.7 s\n"
     ]
    }
   ],
   "source": [
    "%%time\n",
    "val_acc = clf.get_accuracy(val)"
   ]
  },
  {
   "cell_type": "code",
   "execution_count": 9,
   "metadata": {},
   "outputs": [
    {
     "data": {
      "text/plain": [
       "0.7204"
      ]
     },
     "execution_count": 9,
     "metadata": {},
     "output_type": "execute_result"
    }
   ],
   "source": [
    "val_acc"
   ]
  },
  {
   "cell_type": "markdown",
   "metadata": {},
   "source": [
    "Better than kNN and decision tree, comparable to Random Forests"
   ]
  },
  {
   "cell_type": "markdown",
   "metadata": {},
   "source": [
    "## Get a margin of error"
   ]
  },
  {
   "cell_type": "code",
   "execution_count": 13,
   "metadata": {},
   "outputs": [],
   "source": [
    "metrics = []\n",
    "for _ in range(5):\n",
    "  clf = Classifier()\n",
    "  clf.learn(train)\n",
    "  val_acc = clf.get_accuracy(val)\n",
    "  metrics.append(val_acc)"
   ]
  },
  {
   "cell_type": "code",
   "execution_count": 14,
   "metadata": {},
   "outputs": [
    {
     "name": "stdout",
     "output_type": "stream",
     "text": [
      "0.722 ± 0.006\n"
     ]
    }
   ],
   "source": [
    "print(\"{:.3f} ± {:.3f}\".format(np.mean(metrics), np.std(metrics)))"
   ]
  }
 ],
 "metadata": {
  "kernelspec": {
   "display_name": "Python 3",
   "language": "python",
   "name": "python3"
  },
  "language_info": {
   "codemirror_mode": {
    "name": "ipython",
    "version": 3
   },
   "file_extension": ".py",
   "mimetype": "text/x-python",
   "name": "python",
   "nbconvert_exporter": "python",
   "pygments_lexer": "ipython3",
   "version": "3.7.3"
  }
 },
 "nbformat": 4,
 "nbformat_minor": 2
}
